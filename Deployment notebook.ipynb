{
 "cells": [
  {
   "cell_type": "markdown",
   "metadata": {
    "application/vnd.databricks.v1+cell": {
     "cellMetadata": {},
     "inputWidgets": {},
     "nuid": "12a99bbe-9b96-47d8-a3f2-5bd1a4b871f3",
     "showTitle": false,
     "tableResultSettingsMap": {},
     "title": ""
    }
   },
   "source": [
    "## There are a couple of steps that need to be taken before the solution fully works. This notebook is designed to help you with that.  \n",
    "\n",
    " ### Use this notebook to create a configs file. The config file is being used both for deployment and running Databricks Apps."
   ]
  },
  {
   "cell_type": "code",
   "execution_count": 0,
   "metadata": {
    "application/vnd.databricks.v1+cell": {
     "cellMetadata": {
      "byteLimit": 2048000,
      "rowLimit": 10000
     },
     "inputWidgets": {},
     "nuid": "eb877b15-0055-4c8e-85fe-5e2c2baea323",
     "showTitle": true,
     "tableResultSettingsMap": {},
     "title": "Fetch common functions"
    }
   },
   "outputs": [],
   "source": [
    "from src import create_config, create_genie_connection, create_devops_connection, deploy_databricks_apps"
   ]
  },
  {
   "cell_type": "markdown",
   "metadata": {
    "application/vnd.databricks.v1+cell": {
     "cellMetadata": {},
     "inputWidgets": {},
     "nuid": "ffe34157-bbf8-4dae-a310-d53aaaed057a",
     "showTitle": false,
     "tableResultSettingsMap": {},
     "title": ""
    }
   },
   "source": [
    "Populate all values here. Keep in mind that DevOps variables are optional and if you don't want to use them, keep them empty like \"\"\n",
    "\n",
    "_do not populate any random values._"
   ]
  },
  {
   "cell_type": "code",
   "execution_count": 0,
   "metadata": {
    "application/vnd.databricks.v1+cell": {
     "cellMetadata": {
      "byteLimit": 2048000,
      "rowLimit": 10000
     },
     "inputWidgets": {},
     "nuid": "823ab5b9-407b-41e5-81a9-c73c0f467cd0",
     "showTitle": false,
     "tableResultSettingsMap": {},
     "title": ""
    }
   },
   "outputs": [],
   "source": [
    "# Add your secret scope here\n",
    "secret_scope = ''  # like kv-customer\n",
    "\n",
    "# Add your Databricks secret token value here what can be found in the same secret scope\n",
    "databricks_token_secret_value = ''  # like kv-databricks-token-demo\n",
    "\n",
    "# Add your Databricks secret host value here what can be found in the same secret scope\n",
    "# Keep in mind that host value HAS TO BE in the next format in secret: adb-123456789.12.azuredatabricks.net\n",
    "databricks_host_secret_value = ''  # like kv-databricks-host-demo\n",
    "\n",
    "# Add your Databricks Genie space ID's here in a dict list. Key must be Genie Space ID and value description. The rest of the code is trusting this.\n",
    "databricks_genie_space_id_list = {'1234567890': \"Sales genie Space\",\n",
    "                                  '0987654312': \"Databricks genie space\"}"
   ]
  },
  {
   "cell_type": "markdown",
   "metadata": {
    "application/vnd.databricks.v1+cell": {
     "cellMetadata": {},
     "inputWidgets": {},
     "nuid": "06bccab5-c7ef-4be3-80af-fc129c29797d",
     "showTitle": false,
     "tableResultSettingsMap": {},
     "title": ""
    }
   },
   "source": [
    "You can find the Genie Space ID in your URL after going to Genie Space. For example, in the URL https://adb-12345678.9.azuredatabricks.net/genie/rooms/HERE_IS_YOUR_GENIE_SPACE_ID?o=1234567, the Genie Space ID is located here: HERE_IS_YOUR_GENIE_SPACE_ID."
   ]
  },
  {
   "cell_type": "code",
   "execution_count": 0,
   "metadata": {
    "application/vnd.databricks.v1+cell": {
     "cellMetadata": {
      "byteLimit": 2048000,
      "rowLimit": 10000
     },
     "inputWidgets": {},
     "nuid": "64395124-b65c-4d51-9d2c-1185f75e2e89",
     "showTitle": false,
     "tableResultSettingsMap": {},
     "title": ""
    }
   },
   "outputs": [],
   "source": [
    "# Add your DevOps secret value here. It should contain DevOps token. If left empty, DevOps function will be excluded\n",
    "devops_token_secret_value = ''\n",
    "\n",
    "# Add your DevOps organization name here. If left empty, DevOps function will be excluded\n",
    "devops_organization = ''\n",
    "\n",
    "# Add your DevOps project name here. If left empty, DevOps function will be excluded\n",
    "devops_project = '' "
   ]
  },
  {
   "cell_type": "markdown",
   "metadata": {
    "application/vnd.databricks.v1+cell": {
     "cellMetadata": {},
     "inputWidgets": {},
     "nuid": "ecebd70d-86d0-4bc4-9f5a-56c5729285b1",
     "showTitle": false,
     "tableResultSettingsMap": {},
     "title": ""
    }
   },
   "source": [
    "### Here Unity Catalog connection creation options are commented out. Uncomment and fill in the values if creating new connections are needed."
   ]
  },
  {
   "cell_type": "code",
   "execution_count": 0,
   "metadata": {
    "application/vnd.databricks.v1+cell": {
     "cellMetadata": {
      "byteLimit": 2048000,
      "rowLimit": 10000
     },
     "inputWidgets": {},
     "nuid": "5480e615-a207-49bf-962a-e38f762cb1e4",
     "showTitle": false,
     "tableResultSettingsMap": {},
     "title": ""
    }
   },
   "outputs": [],
   "source": [
    "#create_genie_connection(name = \"\")\n",
    "genie_connection = ''  \n",
    "\n",
    "# Optional\n",
    "# create_devops_connection(name = \"\", devops_token, devops_organization devops_project)\n",
    "devops_connection = '' #'azure_devops_demo'"
   ]
  },
  {
   "cell_type": "markdown",
   "metadata": {
    "application/vnd.databricks.v1+cell": {
     "cellMetadata": {},
     "inputWidgets": {},
     "nuid": "e82e5649-a633-4f61-b841-1b0e2d90a029",
     "showTitle": false,
     "tableResultSettingsMap": {},
     "title": ""
    }
   },
   "source": [
    "### Creating configuration yaml file based on the earlier parameters\n",
    "\n",
    "*Keep in mind that validations and tests are excluded here"
   ]
  },
  {
   "cell_type": "code",
   "execution_count": 0,
   "metadata": {
    "application/vnd.databricks.v1+cell": {
     "cellMetadata": {
      "byteLimit": 2048000,
      "rowLimit": 10000
     },
     "inputWidgets": {},
     "nuid": "bba34253-5a5d-449b-b0da-8e97aa29aed4",
     "showTitle": false,
     "tableResultSettingsMap": {},
     "title": ""
    }
   },
   "outputs": [],
   "source": [
    "create_config(secret_scope, \n",
    "              databricks_token_secret_value,\n",
    "              databricks_host_secret_value,\n",
    "              databricks_genie_space_id_list,\n",
    "              genie_connection,\n",
    "              devops_connection,\n",
    "              devops_token_secret_value,\n",
    "              devops_organization,\n",
    "              devops_project\n",
    "              )  "
   ]
  },
  {
   "cell_type": "markdown",
   "metadata": {
    "application/vnd.databricks.v1+cell": {
     "cellMetadata": {},
     "inputWidgets": {},
     "nuid": "bd4a92d5-c414-426e-ba92-fb1863bd8305",
     "showTitle": false,
     "tableResultSettingsMap": {},
     "title": ""
    }
   },
   "source": [
    "### Use the REST API endpoint to deploy your apps. Here, it's possible to choose another model endpoint, but by default, databricks-meta-llama-3-3-70b-instruct pay-per-token model is being used."
   ]
  },
  {
   "cell_type": "code",
   "execution_count": 0,
   "metadata": {
    "application/vnd.databricks.v1+cell": {
     "cellMetadata": {
      "byteLimit": 2048000,
      "rowLimit": 10000
     },
     "inputWidgets": {},
     "nuid": "868d1925-7b49-412f-8ee1-00cb630a4bd3",
     "showTitle": false,
     "tableResultSettingsMap": {},
     "title": ""
    }
   },
   "outputs": [],
   "source": [
    "model_name = \"databricks-meta-llama-3-3-70b-instruct\"\n",
    "apps_name = 'genie-multiagent'\n",
    "\n",
    "# Deploy apps\n",
    "deploy_databricks_apps(apps_name, model_name) \n",
    "\n",
    "#genie spaces + used connections! Eli genie unity catalog connection + devops connection, jos se käytössä"
   ]
  },
  {
   "cell_type": "markdown",
   "metadata": {
    "application/vnd.databricks.v1+cell": {
     "cellMetadata": {},
     "inputWidgets": {},
     "nuid": "f6621d8e-51f4-4054-97d8-7edbf22457b6",
     "showTitle": false,
     "tableResultSettingsMap": {},
     "title": ""
    }
   },
   "source": [
    "### Granting permissions\n",
    "\n",
    "Remember to grant required permissions to Service Principal\n",
    "* Genie spaces (CAN RUN)\n",
    "* Unity Catalog connections (USE CONNECTION)\n",
    "* LLM Model Endpoint (CAN QUERY)"
   ]
  },
  {
   "cell_type": "markdown",
   "metadata": {
    "application/vnd.databricks.v1+cell": {
     "cellMetadata": {},
     "inputWidgets": {},
     "nuid": "41be202d-8f4c-4df4-94d9-50ef0a57d62d",
     "showTitle": false,
     "tableResultSettingsMap": {},
     "title": ""
    }
   },
   "source": [
    "### Other eployment options\n",
    "\n",
    "There are multiple deployment options to choose from. The REST API was used here, but since the code is in the apps folder, you can use DAB or Terraform as well.\n",
    "\n",
    "\n",
    "* Terraform (https://registry.terraform.io/providers/databricks/databricks/latest/docs/resources/app)\n",
    "* Databricks Asset Bundles (https://learn.microsoft.com/en-us/azure/databricks/dev-tools/bundles/resources#apps)\n",
    "* Databricks SDK (https://databricks-sdk-py.readthedocs.io/en/stable/workspace/apps/apps.html)\n",
    "* REST API (https://docs.databricks.com/api/azure/workspace/apps/create)"
   ]
  }
 ],
 "metadata": {
  "application/vnd.databricks.v1+notebook": {
   "computePreferences": null,
   "dashboards": [],
   "environmentMetadata": {
    "base_environment": "",
    "environment_version": "2"
   },
   "inputWidgetPreferences": null,
   "language": "python",
   "notebookMetadata": {
    "pythonIndentUnit": 4
   },
   "notebookName": "Deployment notebook",
   "widgets": {}
  },
  "language_info": {
   "name": "python"
  }
 },
 "nbformat": 4,
 "nbformat_minor": 0
}
