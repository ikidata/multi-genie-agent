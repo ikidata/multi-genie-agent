{
 "cells": [
  {
   "cell_type": "markdown",
   "metadata": {
    "application/vnd.databricks.v1+cell": {
     "cellMetadata": {},
     "inputWidgets": {},
     "nuid": "dd508513-68a5-4044-9742-68ea75c5bae2",
     "showTitle": false,
     "tableResultSettingsMap": {},
     "title": ""
    }
   },
   "source": [
    "## There are a couple of steps that need to be taken before the solution fully works. This notebook is designed to help you with that.  \n",
    "\n",
    " ### Use this notebook to create a configs file. The config file is being used both for deployment and running Databricks Apps."
   ]
  },
  {
   "cell_type": "code",
   "execution_count": 0,
   "metadata": {
    "application/vnd.databricks.v1+cell": {
     "cellMetadata": {},
     "inputWidgets": {},
     "nuid": "5819e7aa-5dc6-4294-95e6-026554d53a7d",
     "showTitle": false,
     "tableResultSettingsMap": {},
     "title": ""
    }
   },
   "outputs": [],
   "source": [
    "from src import create_config, create_genie_connection, create_devops_connection, deploy_databricks_apps"
   ]
  },
  {
   "cell_type": "markdown",
   "metadata": {
    "application/vnd.databricks.v1+cell": {
     "cellMetadata": {},
     "inputWidgets": {},
     "nuid": "e7e76e9a-5925-486e-8ccd-447e914b7da4",
     "showTitle": false,
     "tableResultSettingsMap": {},
     "title": ""
    }
   },
   "source": [
    "Populate all values here. Keep in mind that DevOps variables are optional and if you don't want to use them, keep them empty like \"\"\n",
    "\n",
    "_do not populate any random values._\n",
    "\n",
    "### Keep in mind that host value HAS TO BE in the next format in secret: adb-123456789.12.azuredatabricks.net"
   ]
  },
  {
   "cell_type": "code",
   "execution_count": 0,
   "metadata": {
    "application/vnd.databricks.v1+cell": {
     "cellMetadata": {},
     "inputWidgets": {},
     "nuid": "d7027789-634a-4501-aa30-0f6d71d095a2",
     "showTitle": false,
     "tableResultSettingsMap": {},
     "title": ""
    }
   },
   "outputs": [],
   "source": [
    "# Add your secret scope here\n",
    "secret_scope = ''  # like kv-customer\n",
    "\n",
    "# Add your Databricks secret token value here what can be found in the same secret scope\n",
    "databricks_token_secret_value = ''  # like kv-databricks-token-demo\n",
    "\n",
    "# Add your Databricks secret host value here what can be found in the same secret scope\n",
    "# Keep in mind that host value HAS TO BE in the next format in secret: adb-123456789.12.azuredatabricks.net\n",
    "databricks_host_secret_value = ''  # like kv-databricks-host-demo\n",
    "\n",
    "# Add your Databricks Genie space ID's here in a dict list. Key must be Genie Space ID and value description. The rest of the code is trusting this. Remember, that you can have more than two Genies.\n",
    "databricks_genie_space_id_list = {'1234567890': \"Sales Genie Space\",\n",
    "                                  '0987654312': \"Databricks Genie space\"} "
   ]
  },
  {
   "cell_type": "markdown",
   "metadata": {
    "application/vnd.databricks.v1+cell": {
     "cellMetadata": {},
     "inputWidgets": {},
     "nuid": "d10ecd94-a872-4326-b2ad-5104d9a82a5a",
     "showTitle": false,
     "tableResultSettingsMap": {},
     "title": ""
    }
   },
   "source": [
    "You can find the Genie Space ID in your URL after going to Genie Space. For example, in the URL https://adb-12345678.9.azuredatabricks.net/genie/rooms/HERE_IS_YOUR_GENIE_SPACE_ID?o=1234567, the Genie Space ID is located here: HERE_IS_YOUR_GENIE_SPACE_ID."
   ]
  },
  {
   "cell_type": "code",
   "execution_count": 0,
   "metadata": {
    "application/vnd.databricks.v1+cell": {
     "cellMetadata": {},
     "inputWidgets": {},
     "nuid": "b04ecf1c-ccb8-4437-9845-0da475496518",
     "showTitle": false,
     "tableResultSettingsMap": {},
     "title": ""
    }
   },
   "outputs": [],
   "source": [
    "\n",
    "# Add your DevOps secret value here. It should contain DevOps token. If left empty, DevOps function will be excluded\n",
    "devops_token_secret_value = ''\n",
    "\n",
    "# Add your DevOps organization name here. If left empty, DevOps function will be excluded\n",
    "devops_organization = ''\n",
    "\n",
    "# Add your DevOps project name here. If left empty, DevOps function will be excluded\n",
    "devops_project = '' "
   ]
  },
  {
   "cell_type": "markdown",
   "metadata": {
    "application/vnd.databricks.v1+cell": {
     "cellMetadata": {},
     "inputWidgets": {},
     "nuid": "e3334f15-c28b-40f0-9d6c-6b6a7a963098",
     "showTitle": false,
     "tableResultSettingsMap": {},
     "title": ""
    }
   },
   "source": [
    "### Here Unity Catalog connection creation options are commented out. Uncomment and fill in the values if creating new connections are needed."
   ]
  },
  {
   "cell_type": "code",
   "execution_count": 0,
   "metadata": {
    "application/vnd.databricks.v1+cell": {
     "cellMetadata": {},
     "inputWidgets": {},
     "nuid": "f09f71fa-0510-402a-b7bd-baf6664c80a2",
     "showTitle": false,
     "tableResultSettingsMap": {},
     "title": ""
    }
   },
   "outputs": [],
   "source": [
    "# Remember to populate genie_connection name with the existing connection - otherwise create a new one.\n",
    "\n",
    "#create_genie_connection(name = \"\")\n",
    "genie_connection = ''  \n",
    "\n",
    "# Optional\n",
    "# create_devops_connection(name = \"\", devops_token, devops_organization devops_project)\n",
    "devops_connection = '' #'azure_devops_demo'"
   ]
  },
  {
   "cell_type": "markdown",
   "metadata": {
    "application/vnd.databricks.v1+cell": {
     "cellMetadata": {},
     "inputWidgets": {},
     "nuid": "8ebedd8f-73a2-4912-8b8f-66458580591a",
     "showTitle": false,
     "tableResultSettingsMap": {},
     "title": ""
    }
   },
   "source": [
    "### Creating configuration yaml file based on the earlier parameters\n",
    "*Keep in mind that validations and tests are excluded here - be precise with parameter values"
   ]
  },
  {
   "cell_type": "code",
   "execution_count": 0,
   "metadata": {
    "application/vnd.databricks.v1+cell": {
     "cellMetadata": {},
     "inputWidgets": {},
     "nuid": "538f808c-db74-4c54-9824-2d13d3d27ef4",
     "showTitle": false,
     "tableResultSettingsMap": {},
     "title": ""
    }
   },
   "outputs": [],
   "source": [
    "create_config(secret_scope, \n",
    "              databricks_token_secret_value,\n",
    "              databricks_host_secret_value,\n",
    "              databricks_genie_space_id_list,\n",
    "              genie_connection,\n",
    "              devops_connection,\n",
    "              devops_token_secret_value,\n",
    "              devops_organization,\n",
    "              devops_project\n",
    "              )  "
   ]
  },
  {
   "cell_type": "markdown",
   "metadata": {
    "application/vnd.databricks.v1+cell": {
     "cellMetadata": {},
     "inputWidgets": {},
     "nuid": "afd71e4a-2da5-4285-a61e-1e0305cbb28c",
     "showTitle": false,
     "tableResultSettingsMap": {},
     "title": ""
    }
   },
   "source": [
    "### Use the REST API endpoint to deploy your apps. Here, it's possible to choose another model endpoint, but by default, databricks-claude-3-7-sonnet pay-per-token model is being used."
   ]
  },
  {
   "cell_type": "code",
   "execution_count": 0,
   "metadata": {
    "application/vnd.databricks.v1+cell": {
     "cellMetadata": {},
     "inputWidgets": {},
     "nuid": "6b92ef42-3aed-4f08-83d3-50b1fd27f961",
     "showTitle": false,
     "tableResultSettingsMap": {},
     "title": ""
    }
   },
   "outputs": [],
   "source": [
    "model_name = \"databricks-claude-3-7-sonnet\"\n",
    "apps_name = 'genie-multiagent'\n",
    "\n",
    "# Deploy apps\n",
    "deploy_databricks_apps(apps_name, model_name) "
   ]
  },
  {
   "cell_type": "markdown",
   "metadata": {
    "application/vnd.databricks.v1+cell": {
     "cellMetadata": {},
     "inputWidgets": {},
     "nuid": "15368550-60ed-482f-8d4c-4054c47be9cd",
     "showTitle": false,
     "tableResultSettingsMap": {},
     "title": ""
    }
   },
   "source": [
    "### Granting permissions\n",
    "\n",
    "Remember to grant required permissions to Service Principal\n",
    "* Genie spaces (CAN RUN)\n",
    "* Unity Catalog connections (USE CONNECTION)\n",
    "* LLM Model Endpoint (CAN QUERY)"
   ]
  },
  {
   "cell_type": "markdown",
   "metadata": {
    "application/vnd.databricks.v1+cell": {
     "cellMetadata": {},
     "inputWidgets": {},
     "nuid": "84530dd6-06b1-4706-bca2-436df23080c5",
     "showTitle": false,
     "tableResultSettingsMap": {},
     "title": ""
    }
   },
   "source": [
    "### Other eployment options\n",
    "\n",
    "There are multiple deployment options to choose from. The REST API was used here, but since the code is in the apps folder, you can use DAB or Terraform as well.\n",
    "\n",
    "\n",
    "* Terraform (https://registry.terraform.io/providers/databricks/databricks/latest/docs/resources/app)\n",
    "* Databricks Asset Bundles (https://learn.microsoft.com/en-us/azure/databricks/dev-tools/bundles/resources#apps)\n",
    "* Databricks SDK (https://databricks-sdk-py.readthedocs.io/en/stable/workspace/apps/apps.html)\n",
    "* REST API (https://docs.databricks.com/api/azure/workspace/apps/create)"
   ]
  },
  {
   "cell_type": "markdown",
   "metadata": {
    "application/vnd.databricks.v1+cell": {
     "cellMetadata": {},
     "inputWidgets": {},
     "nuid": "7fc24534-be82-4709-be3e-c5be5f9aa503",
     "showTitle": false,
     "tableResultSettingsMap": {},
     "title": ""
    }
   },
   "source": [
    "### Troubleshooting\n",
    "* Start reading error messages in Databricks logs — it provides a good starting point\n",
    "* Validate that your Databricks host value is correct \n",
    "* Doublecheck permissions to Unity Catalog Connections\n",
    "* Remember to use valid tokens\n"
   ]
  }
 ],
 "metadata": {
  "application/vnd.databricks.v1+notebook": {
   "computePreferences": null,
   "dashboards": [],
   "environmentMetadata": {
    "base_environment": "",
    "environment_version": "2"
   },
   "inputWidgetPreferences": null,
   "language": "python",
   "notebookMetadata": {
    "pythonIndentUnit": 4
   },
   "notebookName": "Deployment notebook",
   "widgets": {}
  },
  "language_info": {
   "name": "python"
  }
 },
 "nbformat": 4,
 "nbformat_minor": 0
}
