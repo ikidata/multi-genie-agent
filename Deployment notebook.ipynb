{
 "cells": [
  {
   "cell_type": "markdown",
   "metadata": {
    "application/vnd.databricks.v1+cell": {
     "cellMetadata": {},
     "inputWidgets": {},
     "nuid": "dd508513-68a5-4044-9742-68ea75c5bae2",
     "showTitle": false,
     "tableResultSettingsMap": {},
     "title": ""
    }
   },
   "source": [
    "## Use this notebook to create a configuration file.  \n",
    "The configuration file is used for both deployment and running Databricks Apps.  \n",
    "If not created, the default Claude 3.7 Sonnet model will be used for app deployment."
   ]
  },
  {
   "cell_type": "code",
   "execution_count": 0,
   "metadata": {
    "application/vnd.databricks.v1+cell": {
     "cellMetadata": {
      "byteLimit": 2048000,
      "rowLimit": 10000
     },
     "inputWidgets": {},
     "nuid": "5819e7aa-5dc6-4294-95e6-026554d53a7d",
     "showTitle": false,
     "tableResultSettingsMap": {},
     "title": ""
    }
   },
   "outputs": [],
   "source": [
    "from src import create_config, deploy_databricks_apps"
   ]
  },
  {
   "cell_type": "markdown",
   "metadata": {
    "application/vnd.databricks.v1+cell": {
     "cellMetadata": {},
     "inputWidgets": {},
     "nuid": "e48637ba-3f7f-47a6-b577-a0b406d35bd3",
     "showTitle": false,
     "tableResultSettingsMap": {},
     "title": ""
    }
   },
   "source": [
    "### Choose your LLM model and create a configuration YAML file\n",
    "* Ensure that the selected LLM model supports tool calling functionality.\n",
    "* Testing has been conducted with OpenAI and Anthropic models. The recommended model is Claude 3.7.\n",
    "* Llama 3.3 is not a sufficient LLM model for this use case."
   ]
  },
  {
   "cell_type": "code",
   "execution_count": 0,
   "metadata": {
    "application/vnd.databricks.v1+cell": {
     "cellMetadata": {
      "byteLimit": 2048000,
      "rowLimit": 10000
     },
     "inputWidgets": {},
     "nuid": "d7027789-634a-4501-aa30-0f6d71d095a2",
     "showTitle": false,
     "tableResultSettingsMap": {},
     "title": ""
    }
   },
   "outputs": [],
   "source": [
    "model_name = \"databricks-claude-3-7-sonnet\"\n",
    "\n",
    "create_config(model_name)  "
   ]
  },
  {
   "cell_type": "markdown",
   "metadata": {
    "application/vnd.databricks.v1+cell": {
     "cellMetadata": {},
     "inputWidgets": {},
     "nuid": "d10ecd94-a872-4326-b2ad-5104d9a82a5a",
     "showTitle": false,
     "tableResultSettingsMap": {},
     "title": ""
    }
   },
   "source": [
    "### Use the REST API endpoint to deploy your apps. Here, it's possible to choose another model endpoint, but by default, databricks-claude-3-7-sonnet instruct pay-per-token model is being used.\n",
    "\n",
    "Remember that App name must contain only lowercase letters, numbers, and dashes."
   ]
  },
  {
   "cell_type": "code",
   "execution_count": 0,
   "metadata": {
    "application/vnd.databricks.v1+cell": {
     "cellMetadata": {
      "byteLimit": 2048000,
      "rowLimit": 10000
     },
     "inputWidgets": {},
     "nuid": "b04ecf1c-ccb8-4437-9845-0da475496518",
     "showTitle": false,
     "tableResultSettingsMap": {},
     "title": ""
    }
   },
   "outputs": [],
   "source": [
    "apps_name = 'agentic-multi-genie-solution'\n",
    "\n",
    "# Deploy apps\n",
    "deploy_databricks_apps(apps_name, model_name) "
   ]
  },
  {
   "cell_type": "markdown",
   "metadata": {
    "application/vnd.databricks.v1+cell": {
     "cellMetadata": {},
     "inputWidgets": {},
     "nuid": "8ebedd8f-73a2-4912-8b8f-66458580591a",
     "showTitle": false,
     "tableResultSettingsMap": {},
     "title": ""
    }
   },
   "source": [
    "### Databricks Asset Bundles (DAB) deployment\n",
    "* databricks.yml contains all the necessary configuration for DAB deployment. Please remember to update the desired parameters as needed.\n",
    "* I recommend using deployment notebook instead of DAB"
   ]
  },
  {
   "cell_type": "markdown",
   "metadata": {
    "application/vnd.databricks.v1+cell": {
     "cellMetadata": {
      "byteLimit": 2048000,
      "rowLimit": 10000
     },
     "inputWidgets": {},
     "nuid": "538f808c-db74-4c54-9824-2d13d3d27ef4",
     "showTitle": false,
     "tableResultSettingsMap": {},
     "title": ""
    }
   },
   "source": [
    "### All deployment options\n",
    "\n",
    "There are multiple deployment options available. Since the code is located in the \"apps\" folder, you aren't limited to one deployment option.\n",
    "\n",
    "* Databricks Asset Bundles (https://learn.microsoft.com/en-us/azure/databricks/dev-tools/bundles/resources#apps)\n",
    "* Databricks SDK (https://databricks-sdk-py.readthedocs.io/en/stable/workspace/apps/apps.html)\n",
    "* REST API (https://docs.databricks.com/api/azure/workspace/apps/create)"
   ]
  }
 ],
 "metadata": {
  "application/vnd.databricks.v1+notebook": {
   "computePreferences": null,
   "dashboards": [],
   "environmentMetadata": {
    "base_environment": "",
    "environment_version": "2"
   },
   "inputWidgetPreferences": null,
   "language": "python",
   "notebookMetadata": {
    "pythonIndentUnit": 4
   },
   "notebookName": "Deployment notebook",
   "widgets": {}
  },
  "language_info": {
   "name": "python"
  }
 },
 "nbformat": 4,
 "nbformat_minor": 0
}
